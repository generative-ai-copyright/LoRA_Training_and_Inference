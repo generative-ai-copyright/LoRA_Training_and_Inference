{
 "cells": [
  {
   "cell_type": "code",
   "execution_count": 1,
   "id": "b3139fb5",
   "metadata": {
    "ExecuteTime": {
     "end_time": "2023-07-19T07:11:29.949382Z",
     "start_time": "2023-07-19T07:11:29.801367Z"
    }
   },
   "outputs": [],
   "source": [
    "from train_lora import train_lora"
   ]
  },
  {
   "cell_type": "code",
   "execution_count": null,
   "id": "6a3c8b4b",
   "metadata": {
    "ExecuteTime": {
     "end_time": "2023-07-19T07:11:41.560795Z",
     "start_time": "2023-07-19T07:11:29.952415Z"
    }
   },
   "outputs": [],
   "source": [
    "train_lora(script='text_to_image', dataset=\"mini_harvard\", validation_prompt=\"A person in Chinese landscape painting\", checkpointing_steps=1500, max_train_steps=2000)"
   ]
  },
  {
   "cell_type": "code",
   "execution_count": null,
   "id": "1ce16f5a",
   "metadata": {},
   "outputs": [],
   "source": [
    "from inference_lora import test_inference # Check inference_lora for more about automatic inferences"
   ]
  },
  {
   "cell_type": "code",
   "execution_count": null,
   "id": "073cb923",
   "metadata": {},
   "outputs": [],
   "source": [
    "test_inference()"
   ]
  },
  {
   "cell_type": "code",
   "execution_count": 3,
   "id": "ca31aeca",
   "metadata": {},
   "outputs": [],
   "source": [
    "train_lora(script='dreambooth', dataset=\"mini_harvard_dreambooth\", instance_prompt=\"A Chinese landscape painting\", validation_prompt=\"Two people walking in Chinese landscape painting\", checkpointing_steps=300, max_train_steps=500)"
   ]
  }
 ],
 "metadata": {
  "kernelspec": {
   "display_name": "Python 3 (ipykernel)",
   "language": "python",
   "name": "python3"
  },
  "language_info": {
   "codemirror_mode": {
    "name": "ipython",
    "version": 3
   },
   "file_extension": ".py",
   "mimetype": "text/x-python",
   "name": "python",
   "nbconvert_exporter": "python",
   "pygments_lexer": "ipython3",
   "version": "3.10.7"
  }
 },
 "nbformat": 4,
 "nbformat_minor": 5
}
